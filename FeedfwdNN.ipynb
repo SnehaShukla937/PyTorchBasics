{
 "cells": [
  {
   "cell_type": "markdown",
   "metadata": {
    "id": "GOHYM1ZvzKSl"
   },
   "source": [
    "**Steps:**\n",
    "1. MNIST\n",
    "2. DataLoader, Tranformation\n",
    "3. Multilayer Neural Net, activation function\n",
    "4. Loss and Optimizer\n",
    "5. Training Loop (batch training)\n",
    "6. Model evalution\n",
    "7. GPU Support"
   ]
  },
  {
   "cell_type": "code",
   "execution_count": 19,
   "metadata": {
    "id": "CPtQJMs5CHdj"
   },
   "outputs": [],
   "source": [
    "import torch\n",
    "import torch.nn as nn\n",
    "import numpy as np\n",
    "import matplotlib.pyplot as plt\n",
    "import torchvision\n",
    "import torchvision.transforms as transforms"
   ]
  },
  {
   "cell_type": "code",
   "execution_count": 20,
   "metadata": {
    "id": "mRMECIyxCcoY"
   },
   "outputs": [],
   "source": [
    "# device config\n",
    "device = torch.device('cuda' if torch.cuda.is_available() else 'cpu')"
   ]
  },
  {
   "cell_type": "code",
   "execution_count": 21,
   "metadata": {
    "id": "ThPxwva80RvW"
   },
   "outputs": [],
   "source": [
    "# hyperparameter\n",
    "input_size = 784  # 28x28\n",
    "hidden_size = 100\n",
    "num_classes = 10\n",
    "num_epochs = 2\n",
    "batch_size = 100\n",
    "lr = 0.001"
   ]
  },
  {
   "cell_type": "code",
   "execution_count": 22,
   "metadata": {
    "colab": {
     "base_uri": "https://localhost:8080/",
     "height": 301
    },
    "id": "4MCzuVE_0lXF",
    "outputId": "bd9ea9b8-9d20-4529-e317-41e08c56cc87"
   },
   "outputs": [
    {
     "name": "stdout",
     "output_type": "stream",
     "text": [
      "torch.Size([100, 1, 28, 28]) torch.Size([100])\n",
      "600\n"
     ]
    },
    {
     "data": {
      "image/png": "[encoded data removed]",
      "text/plain": [
       "<Figure size 432x288 with 6 Axes>"
      ]
     },
     "metadata": {
      "needs_background": "light",
      "tags": []
     },
     "output_type": "display_data"
    }
   ],
   "source": [
    "# MNIST\n",
    "train_dataset = torchvision.datasets.MNIST(root = './data',train=True,\n",
    "                                           transform =transforms.ToTensor(),\n",
    "                                           download = True)\n",
    "\n",
    "test_dataset = torchvision.datasets.MNIST(root = './data',train=False,\n",
    "                                           transform =transforms.ToTensor())\n",
    "\n",
    "train_loader = torch.utils.data.DataLoader(dataset = train_dataset,batch_size = batch_size,\n",
    "                                           shuffle = True)\n",
    "\n",
    "test_loader = torch.utils.data.DataLoader(dataset = test_dataset,batch_size=batch_size,\n",
    "                                          shuffle = False)\n",
    "\n",
    "examples = iter(train_loader)\n",
    "samples,labels = examples.next()\n",
    "print(samples.shape,labels.shape)\n",
    "print(len(train_loader)) # total 60000 images --> divided into batches of 100 --> total 600 train loaders\n",
    "\n",
    "# show sample data\n",
    "for i in range(6):\n",
    "  plt.subplot(2,3,i+1)\n",
    "  plt.imshow(samples[i][0],cmap = 'gray')\n",
    "plt.show()"
   ]
  },
  {
   "cell_type": "code",
   "execution_count": 23,
   "metadata": {
    "colab": {
     "base_uri": "https://localhost:8080/"
    },
    "id": "6LtK_v_v32yd",
    "outputId": "ca130360-b641-4c5a-b1f4-5000fdaebb82"
   },
   "outputs": [
    {
     "name": "stdout",
     "output_type": "stream",
     "text": [
      "epoch 1 / 2,step 100/600,loss = 0.4862\n",
      "epoch 1 / 2,step 200/600,loss = 0.2481\n",
      "epoch 1 / 2,step 300/600,loss = 0.3532\n",
      "epoch 1 / 2,step 400/600,loss = 0.2012\n",
      "epoch 1 / 2,step 500/600,loss = 0.2458\n",
      "epoch 1 / 2,step 600/600,loss = 0.1776\n",
      "epoch 2 / 2,step 100/600,loss = 0.2460\n",
      "epoch 2 / 2,step 200/600,loss = 0.1819\n",
      "epoch 2 / 2,step 300/600,loss = 0.1240\n",
      "epoch 2 / 2,step 400/600,loss = 0.0799\n",
      "epoch 2 / 2,step 500/600,loss = 0.2020\n",
      "epoch 2 / 2,step 600/600,loss = 0.1610\n",
      "accuracy = 95.21 %\n"
     ]
    }
   ],
   "source": [
    "# Model\n",
    "class NeuralNet(nn.Module):\n",
    "  def __init__(self,input_size,hidden_size,num_classes):\n",
    "    super(NeuralNet,self).__init__()\n",
    "    self.l1 = nn.Linear(input_size,hidden_size)\n",
    "    self.relu = nn.ReLU()\n",
    "    self.l2 = nn.Linear(hidden_size,num_classes)\n",
    "\n",
    "  def forward(self,x):\n",
    "    out = self.l1(x)\n",
    "    out = self.relu(out)\n",
    "    out = self.l2(out)\n",
    "    return out\n",
    "\n",
    "model = NeuralNet(input_size,hidden_size,num_classes)\n",
    "\n",
    "# loss and optimizer\n",
    "criterion = nn.CrossEntropyLoss()\n",
    "optimizer = torch.optim.Adam(model.parameters(),lr = lr)\n",
    "\n",
    "# training loop\n",
    "n_total_steps = len(train_loader)\n",
    "for epoch in range(num_epochs):\n",
    "  for i,(images,labels) in enumerate(train_loader):\n",
    "    # 100,1,28,28\n",
    "    # 100, 784\n",
    "    images = images.reshape(-1,28*28).to(device)\n",
    "    labels = labels.to(device)\n",
    "    # forward pass\n",
    "    output = model(images)\n",
    "    loss = criterion(output,labels)\n",
    "    # backward pass\n",
    "    optimizer.zero_grad()\n",
    "    loss.backward()\n",
    "    optimizer.step()\n",
    "\n",
    "    if (i+1) % 100 == 0:\n",
    "      print(f'epoch {epoch+1} / {num_epochs},step {i+1}/{n_total_steps},loss = {loss.item():.4f}' )\n",
    "\n",
    "# test\n",
    "with torch.no_grad():\n",
    "  n_correct = 0\n",
    "  n_samples = 0\n",
    "  for images,labels in test_loader:\n",
    "    images = images.reshape(-1,28*28).to(device)\n",
    "    labels = labels.to(device)\n",
    "    outputs = model(images)\n",
    "\n",
    "    # value,index\n",
    "    _,predictions = torch.max(outputs,1)\n",
    "    n_samples += labels.shape[0]\n",
    "    n_correct += (predictions == labels).sum().item()\n",
    "\n",
    "  acc = 100.0 * n_correct / n_samples\n",
    "  print(f'accuracy = {acc} %')\n"
   ]
  }
 ],
 "metadata": {
  "colab": {
   "collapsed_sections": [],
   "name": "FeedfwdNN.ipynb",
   "provenance": []
  },
  "kernelspec": {
   "display_name": "Python 3",
   "language": "python",
   "name": "python3"
  },
  "language_info": {
   "codemirror_mode": {
    "name": "ipython",
    "version": 3
   },
   "file_extension": ".py",
   "mimetype": "text/x-python",
   "name": "python",
   "nbconvert_exporter": "python",
   "pygments_lexer": "ipython3",
   "version": "3.6.5"
  }
 },
 "nbformat": 4,
 "nbformat_minor": 1
}
