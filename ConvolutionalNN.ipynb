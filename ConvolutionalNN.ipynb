{
 "cells": [
  {
   "cell_type": "markdown",
   "metadata": {
    "id": "08u1TpACLZzt"
   },
   "source": [
    "**CIFAR-10** dataset with 10 different classes, having 60000  32 * 32 colured images with 6000 images for each class.\n",
    "\n",
    "50000 training images + 10000 testing images"
   ]
  },
  {
   "cell_type": "code",
   "execution_count": 10,
   "metadata": {
    "id": "QDAhAVX5HSNZ"
   },
   "outputs": [],
   "source": [
    "import torch\n",
    "import torch.nn as nn\n",
    "import torch.nn.functional as F\n",
    "import torchvision\n",
    "import torchvision.transforms as transforms\n",
    "import numpy as np\n",
    "import matplotlib.pyplot as plt"
   ]
  },
  {
   "cell_type": "code",
   "execution_count": 11,
   "metadata": {
    "id": "GDvPjzPVNPxN"
   },
   "outputs": [],
   "source": [
    "# device \n",
    "device = torch.device('cuda' if torch.cuda.is_available() else 'cpu')"
   ]
  },
  {
   "cell_type": "code",
   "execution_count": 12,
   "metadata": {
    "id": "7kLnKCUGNcfP"
   },
   "outputs": [],
   "source": [
    "# hyperparameter\n",
    "num_epochs = 4\n",
    "batch_size = 4\n",
    "lr = 0.001"
   ]
  },
  {
   "cell_type": "code",
   "execution_count": 13,
   "metadata": {
    "colab": {
     "base_uri": "https://localhost:8080/"
    },
    "id": "r_ibwiwuNj0m",
    "outputId": "8f30371d-787c-44a3-f212-cdc8b3ebf280"
   },
   "outputs": [
    {
     "name": "stdout",
     "output_type": "stream",
     "text": [
      "Files already downloaded and verified\n",
      "Files already downloaded and verified\n"
     ]
    }
   ],
   "source": [
    "# dataset has PIL Image of range [0,1]\n",
    "# we transform them to Tensors of normalzer range [-1,1]\n",
    "\n",
    "transforms = transforms.Compose([transforms.ToTensor(),\n",
    "                                transforms.Normalize((0.5,0.5,0.5),(0.5,0.5,0.5))])\n",
    "\n",
    "train_data = torchvision.datasets.CIFAR10(root = './data',train=True,\n",
    "                                          transform=transforms,download =True)\n",
    "\n",
    "test_data = torchvision.datasets.CIFAR10(root = './data',train=False,\n",
    "                                          transform=transforms,download =True)\n",
    "\n",
    "train_loader = torch.utils.data.DataLoader(dataset = train_data,batch_size=batch_size,\n",
    "                                           shuffle=True)\n",
    "\n",
    "test_loader = torch.utils.data.DataLoader(dataset = test_data,batch_size=batch_size,\n",
    "                                           shuffle=False)\n",
    "\n",
    "classes = ('plane','car','bird','cat','deer','dog','frog','horse','ship','truck')\n"
   ]
  },
  {
   "cell_type": "code",
   "execution_count": 23,
   "metadata": {
    "colab": {
     "base_uri": "https://localhost:8080/"
    },
    "id": "hmqTJiVqRzml",
    "outputId": "600a4a39-411f-4a7f-f761-c45f6ef35824"
   },
   "outputs": [
    {
     "name": "stdout",
     "output_type": "stream",
     "text": [
      "Epoch [1/4],Step [2000/12500],Loss:2.3187\n",
      "Epoch [1/4],Step [4000/12500],Loss:2.3138\n",
      "Epoch [1/4],Step [6000/12500],Loss:2.3139\n",
      "Epoch [1/4],Step [8000/12500],Loss:2.2996\n",
      "Epoch [1/4],Step [10000/12500],Loss:2.2806\n",
      "Epoch [1/4],Step [12000/12500],Loss:1.7359\n",
      "Epoch [2/4],Step [2000/12500],Loss:2.0335\n",
      "Epoch [2/4],Step [4000/12500],Loss:1.8260\n",
      "Epoch [2/4],Step [6000/12500],Loss:1.2505\n",
      "Epoch [2/4],Step [8000/12500],Loss:3.2502\n",
      "Epoch [2/4],Step [10000/12500],Loss:2.0098\n",
      "Epoch [2/4],Step [12000/12500],Loss:1.8174\n",
      "Epoch [3/4],Step [2000/12500],Loss:1.6380\n",
      "Epoch [3/4],Step [4000/12500],Loss:1.5248\n",
      "Epoch [3/4],Step [6000/12500],Loss:1.6581\n",
      "Epoch [3/4],Step [8000/12500],Loss:1.4933\n",
      "Epoch [3/4],Step [10000/12500],Loss:1.3581\n",
      "Epoch [3/4],Step [12000/12500],Loss:1.1961\n",
      "Epoch [4/4],Step [2000/12500],Loss:1.9643\n",
      "Epoch [4/4],Step [4000/12500],Loss:1.7751\n",
      "Epoch [4/4],Step [6000/12500],Loss:2.2162\n",
      "Epoch [4/4],Step [8000/12500],Loss:1.4095\n",
      "Epoch [4/4],Step [10000/12500],Loss:1.5980\n",
      "Epoch [4/4],Step [12000/12500],Loss:1.4056\n",
      "Finished training!\n",
      " Accuracy of NN: 46.81 %\n",
      "Accuracy of plane: 59.4 %\n",
      "Accuracy of car: 63.4 %\n",
      "Accuracy of bird: 26.8 %\n",
      "Accuracy of cat: 32.9 %\n",
      "Accuracy of deer: 39.8 %\n",
      "Accuracy of dog: 33.6 %\n",
      "Accuracy of frog: 66.8 %\n",
      "Accuracy of horse: 55.4 %\n",
      "Accuracy of ship: 37.5 %\n",
      "Accuracy of truck: 52.5 %\n"
     ]
    }
   ],
   "source": [
    "# model (implement conv net)\n",
    "class ConvNet(nn.Module):\n",
    "  def __init__(self):\n",
    "    super(ConvNet,self).__init__()\n",
    "    # torch.Size([4,3,32,32])\n",
    "    self.conv1 = nn.Conv2d(3,6,5) \n",
    "    # torch.Size([4,6,28,28])\n",
    "    self.pool = nn.MaxPool2d(2,2) \n",
    "    # torch.Size([4,6,14,14])\n",
    "    self.conv2 = nn.Conv2d(6,16,5) \n",
    "    # torch.Size([4,16,10,10])\n",
    "    self.fc1 = nn.Linear(16*5*5,120)  # input size after cov + pool = 16*5*5\n",
    "    self.fc2 = nn.Linear(120,84)\n",
    "    self.fc3 = nn.Linear(84,10) # num_classes = 10\n",
    "\n",
    "  def forward(self,x):\n",
    "    out = self.pool(F.relu(self.conv1(x)))\n",
    "    out = self.pool(F.relu(self.conv2(out)))\n",
    "    out = out.view(-1,16*5*5)\n",
    "    out = F.relu(self.fc1(out))\n",
    "    out = F.relu(self.fc2(out))\n",
    "    out = self.fc3(out)\n",
    "    return out\n",
    "\n",
    "model = ConvNet().to(device)\n",
    "\n",
    "# loss and optimizer\n",
    "criterion = nn.CrossEntropyLoss() # softmax included\n",
    "optimizer = torch.optim.SGD(model.parameters(),lr = lr)\n",
    "\n",
    "# training\n",
    "n_total_steps = len(train_loader)\n",
    "for epoch in range(num_epochs):\n",
    "  for i,(images,labels) in enumerate(train_loader):\n",
    "    images = images.to(device)\n",
    "    labels = labels.to(device)\n",
    "\n",
    "    # forward pass\n",
    "    outputs = model(images)\n",
    "    loss = criterion(outputs,labels)\n",
    "\n",
    "    # backward pass\n",
    "    optimizer.zero_grad()\n",
    "    loss.backward()\n",
    "    optimizer.step()\n",
    "\n",
    "    if (i+1) % 2000 == 0:\n",
    "      print(f'Epoch [{epoch+1}/{num_epochs}],Step [{i+1}/{n_total_steps}],Loss:{loss.item():.4f}')\n",
    "\n",
    "print('Finished training!')\n",
    "\n",
    "# test\n",
    "with torch.no_grad():\n",
    "  n_correct = 0\n",
    "  n_samples = 0\n",
    "  n_class_correct = [0 for i in range(10)]\n",
    "  n_class_samples = [0 for i in range(10)]\n",
    "  for images,labels in test_loader:\n",
    "    images = images.to(device)\n",
    "    labels = labels.to(device)\n",
    "    outputs = model(images)\n",
    "    # max returns (value,index)\n",
    "    _,predicted = torch.max(outputs,1)\n",
    "    n_samples += labels.size(0)\n",
    "    n_correct += (predicted == labels).sum().item()\n",
    "\n",
    "    for i in range(batch_size):\n",
    "      label = labels[i]\n",
    "      pred = predicted[i]\n",
    "      if (label == pred):\n",
    "        n_class_correct[label] += 1\n",
    "      n_class_samples[label] += 1\n",
    "\n",
    "  acc = 100.0 * n_correct/n_samples\n",
    "  print(f' Accuracy of NN: {acc} %')\n",
    "\n",
    "  for i in range(10):\n",
    "      acc = 100.0 * n_class_correct[i] / n_class_samples[i]\n",
    "      print(f'Accuracy of {classes[i]}: {acc} %')\n",
    "\n"
   ]
  }
 ],
 "metadata": {
  "colab": {
   "collapsed_sections": [],
   "name": "ConvolutionalNN.ipynb",
   "provenance": []
  },
  "kernelspec": {
   "display_name": "Python 3",
   "language": "python",
   "name": "python3"
  },
  "language_info": {
   "codemirror_mode": {
    "name": "ipython",
    "version": 3
   },
   "file_extension": ".py",
   "mimetype": "text/x-python",
   "name": "python",
   "nbconvert_exporter": "python",
   "pygments_lexer": "ipython3",
   "version": "3.6.5"
  }
 },
 "nbformat": 4,
 "nbformat_minor": 1
}
